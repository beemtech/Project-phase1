{
 "cells": [
  {
   "cell_type": "markdown",
   "id": "bb2b0cad",
   "metadata": {},
   "source": [
    "# Project Overview (problem statement)\n",
    "This project analyzes aviation accident data from the National Transportation Safety Board (NTSB) between 1962 and 2023.  \n",
    "Our goal is to help a business stakeholder identify the safest aircraft makes and models for expanding into commercial and private aviation."
   ]
  },
  {
   "cell_type": "code",
   "execution_count": 2,
   "id": "7d21f08a",
   "metadata": {},
   "outputs": [
    {
     "name": "stderr",
     "output_type": "stream",
     "text": [
      "C:\\Users\\betty\\AppData\\Local\\Temp\\ipykernel_10876\\3341414809.py:4: DtypeWarning: Columns (6,7,28) have mixed types. Specify dtype option on import or set low_memory=False.\n",
      "  df = pd.read_csv(\"AviationData.csv\",encoding=\"latin-1\")\n"
     ]
    },
    {
     "data": {
      "text/html": [
       "<div>\n",
       "<style scoped>\n",
       "    .dataframe tbody tr th:only-of-type {\n",
       "        vertical-align: middle;\n",
       "    }\n",
       "\n",
       "    .dataframe tbody tr th {\n",
       "        vertical-align: top;\n",
       "    }\n",
       "\n",
       "    .dataframe thead th {\n",
       "        text-align: right;\n",
       "    }\n",
       "</style>\n",
       "<table border=\"1\" class=\"dataframe\">\n",
       "  <thead>\n",
       "    <tr style=\"text-align: right;\">\n",
       "      <th></th>\n",
       "      <th>Event.Id</th>\n",
       "      <th>Investigation.Type</th>\n",
       "      <th>Accident.Number</th>\n",
       "      <th>Event.Date</th>\n",
       "      <th>Location</th>\n",
       "      <th>Country</th>\n",
       "      <th>Latitude</th>\n",
       "      <th>Longitude</th>\n",
       "      <th>Airport.Code</th>\n",
       "      <th>Airport.Name</th>\n",
       "      <th>...</th>\n",
       "      <th>Purpose.of.flight</th>\n",
       "      <th>Air.carrier</th>\n",
       "      <th>Total.Fatal.Injuries</th>\n",
       "      <th>Total.Serious.Injuries</th>\n",
       "      <th>Total.Minor.Injuries</th>\n",
       "      <th>Total.Uninjured</th>\n",
       "      <th>Weather.Condition</th>\n",
       "      <th>Broad.phase.of.flight</th>\n",
       "      <th>Report.Status</th>\n",
       "      <th>Publication.Date</th>\n",
       "    </tr>\n",
       "  </thead>\n",
       "  <tbody>\n",
       "    <tr>\n",
       "      <th>0</th>\n",
       "      <td>20001218X45444</td>\n",
       "      <td>Accident</td>\n",
       "      <td>SEA87LA080</td>\n",
       "      <td>1948-10-24</td>\n",
       "      <td>MOOSE CREEK, ID</td>\n",
       "      <td>United States</td>\n",
       "      <td>NaN</td>\n",
       "      <td>NaN</td>\n",
       "      <td>NaN</td>\n",
       "      <td>NaN</td>\n",
       "      <td>...</td>\n",
       "      <td>Personal</td>\n",
       "      <td>NaN</td>\n",
       "      <td>2.0</td>\n",
       "      <td>0.0</td>\n",
       "      <td>0.0</td>\n",
       "      <td>0.0</td>\n",
       "      <td>UNK</td>\n",
       "      <td>Cruise</td>\n",
       "      <td>Probable Cause</td>\n",
       "      <td>NaN</td>\n",
       "    </tr>\n",
       "    <tr>\n",
       "      <th>1</th>\n",
       "      <td>20001218X45447</td>\n",
       "      <td>Accident</td>\n",
       "      <td>LAX94LA336</td>\n",
       "      <td>1962-07-19</td>\n",
       "      <td>BRIDGEPORT, CA</td>\n",
       "      <td>United States</td>\n",
       "      <td>NaN</td>\n",
       "      <td>NaN</td>\n",
       "      <td>NaN</td>\n",
       "      <td>NaN</td>\n",
       "      <td>...</td>\n",
       "      <td>Personal</td>\n",
       "      <td>NaN</td>\n",
       "      <td>4.0</td>\n",
       "      <td>0.0</td>\n",
       "      <td>0.0</td>\n",
       "      <td>0.0</td>\n",
       "      <td>UNK</td>\n",
       "      <td>Unknown</td>\n",
       "      <td>Probable Cause</td>\n",
       "      <td>19-09-1996</td>\n",
       "    </tr>\n",
       "    <tr>\n",
       "      <th>2</th>\n",
       "      <td>20061025X01555</td>\n",
       "      <td>Accident</td>\n",
       "      <td>NYC07LA005</td>\n",
       "      <td>1974-08-30</td>\n",
       "      <td>Saltville, VA</td>\n",
       "      <td>United States</td>\n",
       "      <td>36.922223</td>\n",
       "      <td>-81.878056</td>\n",
       "      <td>NaN</td>\n",
       "      <td>NaN</td>\n",
       "      <td>...</td>\n",
       "      <td>Personal</td>\n",
       "      <td>NaN</td>\n",
       "      <td>3.0</td>\n",
       "      <td>NaN</td>\n",
       "      <td>NaN</td>\n",
       "      <td>NaN</td>\n",
       "      <td>IMC</td>\n",
       "      <td>Cruise</td>\n",
       "      <td>Probable Cause</td>\n",
       "      <td>26-02-2007</td>\n",
       "    </tr>\n",
       "    <tr>\n",
       "      <th>3</th>\n",
       "      <td>20001218X45448</td>\n",
       "      <td>Accident</td>\n",
       "      <td>LAX96LA321</td>\n",
       "      <td>1977-06-19</td>\n",
       "      <td>EUREKA, CA</td>\n",
       "      <td>United States</td>\n",
       "      <td>NaN</td>\n",
       "      <td>NaN</td>\n",
       "      <td>NaN</td>\n",
       "      <td>NaN</td>\n",
       "      <td>...</td>\n",
       "      <td>Personal</td>\n",
       "      <td>NaN</td>\n",
       "      <td>2.0</td>\n",
       "      <td>0.0</td>\n",
       "      <td>0.0</td>\n",
       "      <td>0.0</td>\n",
       "      <td>IMC</td>\n",
       "      <td>Cruise</td>\n",
       "      <td>Probable Cause</td>\n",
       "      <td>12-09-2000</td>\n",
       "    </tr>\n",
       "    <tr>\n",
       "      <th>4</th>\n",
       "      <td>20041105X01764</td>\n",
       "      <td>Accident</td>\n",
       "      <td>CHI79FA064</td>\n",
       "      <td>1979-08-02</td>\n",
       "      <td>Canton, OH</td>\n",
       "      <td>United States</td>\n",
       "      <td>NaN</td>\n",
       "      <td>NaN</td>\n",
       "      <td>NaN</td>\n",
       "      <td>NaN</td>\n",
       "      <td>...</td>\n",
       "      <td>Personal</td>\n",
       "      <td>NaN</td>\n",
       "      <td>1.0</td>\n",
       "      <td>2.0</td>\n",
       "      <td>NaN</td>\n",
       "      <td>0.0</td>\n",
       "      <td>VMC</td>\n",
       "      <td>Approach</td>\n",
       "      <td>Probable Cause</td>\n",
       "      <td>16-04-1980</td>\n",
       "    </tr>\n",
       "    <tr>\n",
       "      <th>...</th>\n",
       "      <td>...</td>\n",
       "      <td>...</td>\n",
       "      <td>...</td>\n",
       "      <td>...</td>\n",
       "      <td>...</td>\n",
       "      <td>...</td>\n",
       "      <td>...</td>\n",
       "      <td>...</td>\n",
       "      <td>...</td>\n",
       "      <td>...</td>\n",
       "      <td>...</td>\n",
       "      <td>...</td>\n",
       "      <td>...</td>\n",
       "      <td>...</td>\n",
       "      <td>...</td>\n",
       "      <td>...</td>\n",
       "      <td>...</td>\n",
       "      <td>...</td>\n",
       "      <td>...</td>\n",
       "      <td>...</td>\n",
       "      <td>...</td>\n",
       "    </tr>\n",
       "    <tr>\n",
       "      <th>88884</th>\n",
       "      <td>20221227106491</td>\n",
       "      <td>Accident</td>\n",
       "      <td>ERA23LA093</td>\n",
       "      <td>2022-12-26</td>\n",
       "      <td>Annapolis, MD</td>\n",
       "      <td>United States</td>\n",
       "      <td>NaN</td>\n",
       "      <td>NaN</td>\n",
       "      <td>NaN</td>\n",
       "      <td>NaN</td>\n",
       "      <td>...</td>\n",
       "      <td>Personal</td>\n",
       "      <td>NaN</td>\n",
       "      <td>0.0</td>\n",
       "      <td>1.0</td>\n",
       "      <td>0.0</td>\n",
       "      <td>0.0</td>\n",
       "      <td>NaN</td>\n",
       "      <td>NaN</td>\n",
       "      <td>NaN</td>\n",
       "      <td>29-12-2022</td>\n",
       "    </tr>\n",
       "    <tr>\n",
       "      <th>88885</th>\n",
       "      <td>20221227106494</td>\n",
       "      <td>Accident</td>\n",
       "      <td>ERA23LA095</td>\n",
       "      <td>2022-12-26</td>\n",
       "      <td>Hampton, NH</td>\n",
       "      <td>United States</td>\n",
       "      <td>NaN</td>\n",
       "      <td>NaN</td>\n",
       "      <td>NaN</td>\n",
       "      <td>NaN</td>\n",
       "      <td>...</td>\n",
       "      <td>NaN</td>\n",
       "      <td>NaN</td>\n",
       "      <td>0.0</td>\n",
       "      <td>0.0</td>\n",
       "      <td>0.0</td>\n",
       "      <td>0.0</td>\n",
       "      <td>NaN</td>\n",
       "      <td>NaN</td>\n",
       "      <td>NaN</td>\n",
       "      <td>NaN</td>\n",
       "    </tr>\n",
       "    <tr>\n",
       "      <th>88886</th>\n",
       "      <td>20221227106497</td>\n",
       "      <td>Accident</td>\n",
       "      <td>WPR23LA075</td>\n",
       "      <td>2022-12-26</td>\n",
       "      <td>Payson, AZ</td>\n",
       "      <td>United States</td>\n",
       "      <td>341525N</td>\n",
       "      <td>1112021W</td>\n",
       "      <td>PAN</td>\n",
       "      <td>PAYSON</td>\n",
       "      <td>...</td>\n",
       "      <td>Personal</td>\n",
       "      <td>NaN</td>\n",
       "      <td>0.0</td>\n",
       "      <td>0.0</td>\n",
       "      <td>0.0</td>\n",
       "      <td>1.0</td>\n",
       "      <td>VMC</td>\n",
       "      <td>NaN</td>\n",
       "      <td>NaN</td>\n",
       "      <td>27-12-2022</td>\n",
       "    </tr>\n",
       "    <tr>\n",
       "      <th>88887</th>\n",
       "      <td>20221227106498</td>\n",
       "      <td>Accident</td>\n",
       "      <td>WPR23LA076</td>\n",
       "      <td>2022-12-26</td>\n",
       "      <td>Morgan, UT</td>\n",
       "      <td>United States</td>\n",
       "      <td>NaN</td>\n",
       "      <td>NaN</td>\n",
       "      <td>NaN</td>\n",
       "      <td>NaN</td>\n",
       "      <td>...</td>\n",
       "      <td>Personal</td>\n",
       "      <td>MC CESSNA 210N LLC</td>\n",
       "      <td>0.0</td>\n",
       "      <td>0.0</td>\n",
       "      <td>0.0</td>\n",
       "      <td>0.0</td>\n",
       "      <td>NaN</td>\n",
       "      <td>NaN</td>\n",
       "      <td>NaN</td>\n",
       "      <td>NaN</td>\n",
       "    </tr>\n",
       "    <tr>\n",
       "      <th>88888</th>\n",
       "      <td>20221230106513</td>\n",
       "      <td>Accident</td>\n",
       "      <td>ERA23LA097</td>\n",
       "      <td>2022-12-29</td>\n",
       "      <td>Athens, GA</td>\n",
       "      <td>United States</td>\n",
       "      <td>NaN</td>\n",
       "      <td>NaN</td>\n",
       "      <td>NaN</td>\n",
       "      <td>NaN</td>\n",
       "      <td>...</td>\n",
       "      <td>Personal</td>\n",
       "      <td>NaN</td>\n",
       "      <td>0.0</td>\n",
       "      <td>1.0</td>\n",
       "      <td>0.0</td>\n",
       "      <td>1.0</td>\n",
       "      <td>NaN</td>\n",
       "      <td>NaN</td>\n",
       "      <td>NaN</td>\n",
       "      <td>30-12-2022</td>\n",
       "    </tr>\n",
       "  </tbody>\n",
       "</table>\n",
       "<p>88889 rows × 31 columns</p>\n",
       "</div>"
      ],
      "text/plain": [
       "             Event.Id Investigation.Type Accident.Number  Event.Date  \\\n",
       "0      20001218X45444           Accident      SEA87LA080  1948-10-24   \n",
       "1      20001218X45447           Accident      LAX94LA336  1962-07-19   \n",
       "2      20061025X01555           Accident      NYC07LA005  1974-08-30   \n",
       "3      20001218X45448           Accident      LAX96LA321  1977-06-19   \n",
       "4      20041105X01764           Accident      CHI79FA064  1979-08-02   \n",
       "...               ...                ...             ...         ...   \n",
       "88884  20221227106491           Accident      ERA23LA093  2022-12-26   \n",
       "88885  20221227106494           Accident      ERA23LA095  2022-12-26   \n",
       "88886  20221227106497           Accident      WPR23LA075  2022-12-26   \n",
       "88887  20221227106498           Accident      WPR23LA076  2022-12-26   \n",
       "88888  20221230106513           Accident      ERA23LA097  2022-12-29   \n",
       "\n",
       "              Location        Country   Latitude  Longitude Airport.Code  \\\n",
       "0      MOOSE CREEK, ID  United States        NaN        NaN          NaN   \n",
       "1       BRIDGEPORT, CA  United States        NaN        NaN          NaN   \n",
       "2        Saltville, VA  United States  36.922223 -81.878056          NaN   \n",
       "3           EUREKA, CA  United States        NaN        NaN          NaN   \n",
       "4           Canton, OH  United States        NaN        NaN          NaN   \n",
       "...                ...            ...        ...        ...          ...   \n",
       "88884    Annapolis, MD  United States        NaN        NaN          NaN   \n",
       "88885      Hampton, NH  United States        NaN        NaN          NaN   \n",
       "88886       Payson, AZ  United States    341525N   1112021W          PAN   \n",
       "88887       Morgan, UT  United States        NaN        NaN          NaN   \n",
       "88888       Athens, GA  United States        NaN        NaN          NaN   \n",
       "\n",
       "      Airport.Name  ... Purpose.of.flight         Air.carrier  \\\n",
       "0              NaN  ...          Personal                 NaN   \n",
       "1              NaN  ...          Personal                 NaN   \n",
       "2              NaN  ...          Personal                 NaN   \n",
       "3              NaN  ...          Personal                 NaN   \n",
       "4              NaN  ...          Personal                 NaN   \n",
       "...            ...  ...               ...                 ...   \n",
       "88884          NaN  ...          Personal                 NaN   \n",
       "88885          NaN  ...               NaN                 NaN   \n",
       "88886       PAYSON  ...          Personal                 NaN   \n",
       "88887          NaN  ...          Personal  MC CESSNA 210N LLC   \n",
       "88888          NaN  ...          Personal                 NaN   \n",
       "\n",
       "      Total.Fatal.Injuries Total.Serious.Injuries Total.Minor.Injuries  \\\n",
       "0                      2.0                    0.0                  0.0   \n",
       "1                      4.0                    0.0                  0.0   \n",
       "2                      3.0                    NaN                  NaN   \n",
       "3                      2.0                    0.0                  0.0   \n",
       "4                      1.0                    2.0                  NaN   \n",
       "...                    ...                    ...                  ...   \n",
       "88884                  0.0                    1.0                  0.0   \n",
       "88885                  0.0                    0.0                  0.0   \n",
       "88886                  0.0                    0.0                  0.0   \n",
       "88887                  0.0                    0.0                  0.0   \n",
       "88888                  0.0                    1.0                  0.0   \n",
       "\n",
       "      Total.Uninjured Weather.Condition  Broad.phase.of.flight  \\\n",
       "0                 0.0               UNK                 Cruise   \n",
       "1                 0.0               UNK                Unknown   \n",
       "2                 NaN               IMC                 Cruise   \n",
       "3                 0.0               IMC                 Cruise   \n",
       "4                 0.0               VMC               Approach   \n",
       "...               ...               ...                    ...   \n",
       "88884             0.0               NaN                    NaN   \n",
       "88885             0.0               NaN                    NaN   \n",
       "88886             1.0               VMC                    NaN   \n",
       "88887             0.0               NaN                    NaN   \n",
       "88888             1.0               NaN                    NaN   \n",
       "\n",
       "        Report.Status Publication.Date  \n",
       "0      Probable Cause              NaN  \n",
       "1      Probable Cause       19-09-1996  \n",
       "2      Probable Cause       26-02-2007  \n",
       "3      Probable Cause       12-09-2000  \n",
       "4      Probable Cause       16-04-1980  \n",
       "...               ...              ...  \n",
       "88884             NaN       29-12-2022  \n",
       "88885             NaN              NaN  \n",
       "88886             NaN       27-12-2022  \n",
       "88887             NaN              NaN  \n",
       "88888             NaN       30-12-2022  \n",
       "\n",
       "[88889 rows x 31 columns]"
      ]
     },
     "execution_count": 2,
     "metadata": {},
     "output_type": "execute_result"
    }
   ],
   "source": [
    "import pandas as pd \n",
    "import matplotlib.pyplot as plt\n",
    "import seaborn as sns\n",
    "df = pd.read_csv(\"AviationData.csv\",encoding=\"latin-1\")\n",
    "df\n"
   ]
  },
  {
   "cell_type": "markdown",
   "id": "3df42ee7",
   "metadata": {},
   "source": [
    "We have loaded the aviation dataset, which contains accident and incident records from 1962 to 2023\n",
    "we are using 'latin' encoding to properly handle special characters in the data set.\n",
    "we have also called the df to explore how the data set looks like.\n"
   ]
  },
  {
   "cell_type": "code",
   "execution_count": 3,
   "id": "30fe7d31",
   "metadata": {},
   "outputs": [
    {
     "data": {
      "text/plain": [
       "['Event.Id',\n",
       " 'Investigation.Type',\n",
       " 'Accident.Number',\n",
       " 'Event.Date',\n",
       " 'Location',\n",
       " 'Country',\n",
       " 'Latitude',\n",
       " 'Longitude',\n",
       " 'Airport.Code',\n",
       " 'Airport.Name',\n",
       " 'Injury.Severity',\n",
       " 'Aircraft.damage',\n",
       " 'Aircraft.Category',\n",
       " 'Registration.Number',\n",
       " 'Make',\n",
       " 'Model',\n",
       " 'Amateur.Built',\n",
       " 'Number.of.Engines',\n",
       " 'Engine.Type',\n",
       " 'FAR.Description',\n",
       " 'Schedule',\n",
       " 'Purpose.of.flight',\n",
       " 'Air.carrier',\n",
       " 'Total.Fatal.Injuries',\n",
       " 'Total.Serious.Injuries',\n",
       " 'Total.Minor.Injuries',\n",
       " 'Total.Uninjured',\n",
       " 'Weather.Condition',\n",
       " 'Broad.phase.of.flight',\n",
       " 'Report.Status',\n",
       " 'Publication.Date']"
      ]
     },
     "execution_count": 3,
     "metadata": {},
     "output_type": "execute_result"
    }
   ],
   "source": [
    "df.shape\n",
    "df.head()\n",
    "df.columns.tolist()"
   ]
  },
  {
   "cell_type": "markdown",
   "id": "f05751fd",
   "metadata": {},
   "source": [
    "## Select columns that are needed\n",
    "The data set has 88889 rows × 31 columns but for the purpose of our risk analysis we will only focus on the ones that are most related to accident serveritu and aircraft information.\n",
    "we will be using\n",
    "- make\n",
    "- model\n",
    "-Injury.Severity\n",
    "-Weather.Condition\n",
    "-Aircraft.damage\n",
    "-Total.Fatal.Injuries, Total.Serious.Injuries, Total.Minor.injuries, Total uninjuired\n",
    "-Broad.phase.of.flight\n",
    "-investigation type\n",
    "-engine type\n",
    "We will also remove any entries with missing values\n",
    "\n"
   ]
  },
  {
   "cell_type": "code",
   "execution_count": 4,
   "id": "87fa6f1a",
   "metadata": {},
   "outputs": [
    {
     "data": {
      "text/plain": [
       "(88889, 11)"
      ]
     },
     "execution_count": 4,
     "metadata": {},
     "output_type": "execute_result"
    }
   ],
   "source": [
    "required_cols = ['Make','Model', 'Injury.Severity', 'Aircraft.damage',\n",
    "   'Total.Serious.Injuries', 'Total.Fatal.Injuries', 'Total.Uninjured',\n",
    "   'Weather.Condition', 'Broad.phase.of.flight',\n",
    "    'Investigation.Type','Engine.Type']\n",
    "#creating our subset that we will be using as our data frame\n",
    "aviation_df = df[required_cols]\n",
    "aviation_df.head()\n",
    "aviation_df.shape\n"
   ]
  },
  {
   "cell_type": "code",
   "execution_count": 5,
   "id": "2e08868c",
   "metadata": {},
   "outputs": [
    {
     "data": {
      "text/plain": [
       "Make                         63\n",
       "Model                        92\n",
       "Injury.Severity            1000\n",
       "Aircraft.damage            3194\n",
       "Total.Serious.Injuries    12510\n",
       "Total.Fatal.Injuries      11401\n",
       "Total.Uninjured            5912\n",
       "Weather.Condition          4492\n",
       "Broad.phase.of.flight     27165\n",
       "Investigation.Type            0\n",
       "Engine.Type                7096\n",
       "dtype: int64"
      ]
     },
     "execution_count": 5,
     "metadata": {},
     "output_type": "execute_result"
    }
   ],
   "source": [
    "# check missing values\n",
    "aviation_df.isnull().sum()"
   ]
  },
  {
   "cell_type": "markdown",
   "id": "2f007364",
   "metadata": {},
   "source": [
    "We are going to handle missing values.\n",
    "For missing values in make, model and injury severity we are going to drop the rows. Since the have critical information for the other columns we will fill them."
   ]
  },
  {
   "cell_type": "code",
   "execution_count": 6,
   "id": "bdb984ca",
   "metadata": {},
   "outputs": [
    {
     "data": {
      "text/plain": [
       "Make                      0\n",
       "Model                     0\n",
       "Injury.Severity           0\n",
       "Aircraft.damage           0\n",
       "Total.Serious.Injuries    0\n",
       "Total.Fatal.Injuries      0\n",
       "Total.Uninjured           0\n",
       "Weather.Condition         0\n",
       "Broad.phase.of.flight     0\n",
       "Investigation.Type        0\n",
       "Engine.Type               0\n",
       "dtype: int64"
      ]
     },
     "execution_count": 6,
     "metadata": {},
     "output_type": "execute_result"
    }
   ],
   "source": [
    "# dropping rows where Make,Model and injury severity are missing.\n",
    "aviation_df = aviation_df.dropna()\n",
    "\n",
    "#aviation_df = aviation_df.dropna(subset=['Make', 'Model', 'Injury.Severity','Aircraft.damage' ])\n",
    "aviation_df\n",
    "\n",
    "\n",
    "# Filling other missing values with 'Unknown'\n",
    "#aviation_df['Weather.Condition'] = aviation_df['Weather.Condition'].fillna('Unknown')\n",
    "#aviation_df['Broad.phase.of.flight'] = aviation_df['Broad.phase.of.flight'].fillna('Unknown')\n",
    "#aviation_df['Investigation.Type'] = aviation_df['Investigation.Type'].fillna('Unknown')\n",
    "#aviation_df['Engine.Type'] = aviation_df['Engine.Type'].fillna('Unknown')\n",
    "\n",
    "# Filling injury counts with 0 where missing\n",
    "#aviation_df['Total.Fatal.Injuries'] = aviation_df['Total.Fatal.Injuries'].fillna(0)\n",
    "#aviation_df['Total.Serious.Injuries'] = aviation_df['Total.Serious.Injuries'].fillna(0)\n",
    "#aviation_df['Total.Uninjured'] = aviation_df['Total.Uninjured'].fillna(0)\n",
    "\n",
    "\n",
    "\n",
    "\n",
    "aviation_df.isnull().sum()"
   ]
  },
  {
   "cell_type": "markdown",
   "id": "3cab7bae",
   "metadata": {},
   "source": []
  },
  {
   "cell_type": "markdown",
   "id": "dd3cf84d",
   "metadata": {},
   "source": [
    "# Analysis 1\n",
    "Our data set is now clean and ready for analysis.\n",
    "Here we want to identify the make and the model with the fewest fatalities\n"
   ]
  },
  {
   "cell_type": "code",
   "execution_count": 7,
   "id": "fc722e55",
   "metadata": {},
   "outputs": [
    {
     "data": {
      "text/plain": [
       "Make\n",
       "Hughes       108.0\n",
       "Grumman      130.0\n",
       "Bellanca     272.0\n",
       "Mooney       407.0\n",
       "Bell         511.0\n",
       "Boeing       802.0\n",
       "Beech       1954.0\n",
       "Piper       3925.0\n",
       "Cessna      5100.0\n",
       "Name: Total.Fatal.Injuries, dtype: float64"
      ]
     },
     "execution_count": 7,
     "metadata": {},
     "output_type": "execute_result"
    }
   ],
   "source": [
    "\n",
    "\n",
    "make_accidents = aviation_df['Make'].value_counts()\n",
    "\n",
    "# Filter makes with at least 50 accidents\n",
    "common_makes = make_accidents[make_accidents > 500].index\n",
    "\n",
    "# Filter original dataframe to only include common makes\n",
    "aviation_df = aviation_df[aviation_df['Make'].isin(common_makes)]\n",
    "aviation_df\n",
    "# Group by Make and sum fatal injuries\n",
    "safest_make = aviation_df.groupby('Make')['Total.Fatal.Injuries'].sum().sort_values()\n",
    "\n",
    "# Get Top 10 Safest Makes (lowest total fatalities)\n",
    "safest_makes =safest_make.head(10)\n",
    "\n",
    "safest_makes\n"
   ]
  },
  {
   "cell_type": "markdown",
   "id": "712f41a9",
   "metadata": {},
   "source": [
    "Now we are going to plot our bar graph inorder to see the manufacturer with the lowest fatilities.\n",
    "We are going to import matplot as plt and seaborn as sn"
   ]
  },
  {
   "cell_type": "code",
   "execution_count": 8,
   "id": "de517d6a",
   "metadata": {},
   "outputs": [
    {
     "data": {
      "image/png": "[encoded data removed]",
      "text/plain": [
       "<Figure size 1000x500 with 1 Axes>"
      ]
     },
     "metadata": {},
     "output_type": "display_data"
    }
   ],
   "source": [
    "# Plot\n",
    "plt.figure(figsize=(10,5))\n",
    "sns.barplot(x=safest_makes.index, y=safest_makes.values )\n",
    "plt.title('Top 10 Safest Aircraft Manufacturers (Lowest Fatal Injuries)')\n",
    "plt.ylabel('Total Fatal Injuries')\n",
    "plt.xlabel('Manufacturer (Make)')\n",
    "plt.show()\n",
    "\n"
   ]
  },
  {
   "cell_type": "markdown",
   "id": "cbe7a2ea",
   "metadata": {},
   "source": [
    "# Recommendation\n",
    "The company should initially focus on  fleet purchase on these manufacturers i.e, (Hughes, Grumman, Mooney,Bell,Boeing, Beech, Piper, Cessna) since these are the most common manufacturing company with low number of fatilities..\n",
    "\n",
    "They have demonstrated better safety over the years."
   ]
  },
  {
   "cell_type": "markdown",
   "id": "d33333ce",
   "metadata": {},
   "source": []
  },
  {
   "cell_type": "markdown",
   "id": "40b4ed5f",
   "metadata": {},
   "source": [
    "# Analysis 2\n",
    "We want to identify the best aircraft types to start with\n",
    "we are going to find which engine type are involved in fewer accidents and less severe damage"
   ]
  },
  {
   "cell_type": "code",
   "execution_count": 9,
   "id": "1d395cc6",
   "metadata": {},
   "outputs": [
    {
     "data": {
      "text/plain": [
       "Engine.Type\n",
       "Reciprocating    31855\n",
       "Turbo Shaft       1207\n",
       "Turbo Prop         522\n",
       "Turbo Fan          331\n",
       "Turbo Jet          105\n",
       "Unknown             23\n",
       "Name: Investigation.Type, dtype: int64"
      ]
     },
     "execution_count": 9,
     "metadata": {},
     "output_type": "execute_result"
    }
   ],
   "source": [
    "# Group by Engine Type\n",
    "engine_accidents = aviation_df.groupby('Engine.Type')['Investigation.Type'].count().sort_values(ascending=False)\n",
    "engine_accidents\n",
    "\n"
   ]
  },
  {
   "cell_type": "markdown",
   "id": "bdaba03b",
   "metadata": {},
   "source": [
    "We are now going to plot our bar chart to compare the engine type with the number of accident occured\n"
   ]
  },
  {
   "cell_type": "code",
   "execution_count": 10,
   "id": "c8fc5ea6",
   "metadata": {},
   "outputs": [
    {
     "data": {
      "image/png": "[encoded data removed]",
      "text/plain": [
       "<Figure size 1200x600 with 1 Axes>"
      ]
     },
     "metadata": {},
     "output_type": "display_data"
    }
   ],
   "source": [
    "# Plot\n",
    "plt.figure(figsize=(12,6))\n",
    "sns.barplot(x=engine_accidents.index, y=engine_accidents.values)\n",
    "plt.title('Accidents by Engine Type')\n",
    "plt.ylabel('Number of Accidents')\n",
    "plt.xlabel('Engine Type')\n",
    "plt.show()"
   ]
  },
  {
   "cell_type": "markdown",
   "id": "ef6895c2",
   "metadata": {},
   "source": [
    "# Recommendation\n",
    "Company should consider purchasing Aeroplanes with Turbo Jet engine type since these types show lower accident rates and are ideal for building operational experience."
   ]
  },
  {
   "cell_type": "markdown",
   "id": "35dfacb5",
   "metadata": {},
   "source": [
    "# Anylsis 3\n",
    "We are going to understand, which weather conditions is  most risky.\n"
   ]
  },
  {
   "cell_type": "code",
   "execution_count": 11,
   "id": "cd81f82f",
   "metadata": {},
   "outputs": [
    {
     "data": {
      "image/png": "[encoded data removed]",
      "text/plain": [
       "<Figure size 1200x600 with 1 Axes>"
      ]
     },
     "metadata": {},
     "output_type": "display_data"
    }
   ],
   "source": [
    "# Weather Condition distribution\n",
    "weather_condition = aviation_df['Weather.Condition'].value_counts()\n",
    "weather_condition\n",
    "\n",
    "# Plot Weather Condition\n",
    "plt.figure(figsize=(12,6))\n",
    "sns.barplot(x =weather_condition.index,y=weather_condition.values)\n",
    "plt.title('Accidents by Weather Condition')\n",
    "plt.ylabel('Number of Accidents')\n",
    "plt.xlabel('Weather Condition')\n",
    "plt.show()\n"
   ]
  },
  {
   "cell_type": "markdown",
   "id": "14c12efb",
   "metadata": {},
   "source": [
    "we are going to plot our last visualization \n",
    "we want to understand the phase of flight that many accidents happen for precaution purposes"
   ]
  },
  {
   "cell_type": "code",
   "execution_count": 12,
   "id": "5c80c460",
   "metadata": {},
   "outputs": [
    {
     "data": {
      "image/png": "[encoded data removed]",
      "text/plain": [
       "<Figure size 1200x600 with 1 Axes>"
      ]
     },
     "metadata": {},
     "output_type": "display_data"
    }
   ],
   "source": [
    "# Broad Phase of Flight distribution\n",
    "phase_of_flight = aviation_df['Broad.phase.of.flight'].value_counts()\n",
    "\n",
    "# Plot Phase of Flight\n",
    "plt.figure(figsize=(12,6))\n",
    "sns.barplot(x=phase_of_flight.values, y=phase_of_flight.index)\n",
    "plt.title('Accidents by Phase of Flight')\n",
    "plt.xlabel('Number of Accidents')\n",
    "plt.ylabel('Phase of Flight')\n",
    "plt.show()\n"
   ]
  },
  {
   "cell_type": "markdown",
   "id": "80019346",
   "metadata": {},
   "source": [
    "# Recommendation\n",
    " The company should embrace Operational Risk Management by Avoid operations in adverse weather \"VMC\" conditions.\n",
    "\n",
    "Additionally they should not that Takeoff and Landing phases are highest risk  and therefore they should invest in specialized pilot training for these stages."
   ]
  },
  {
   "cell_type": "markdown",
   "id": "d6d038ef",
   "metadata": {},
   "source": [
    "# Tableau Visualization\n",
    "We are going to create a clean csv data that include data for all the plots in our notebook\n"
   ]
  },
  {
   "cell_type": "code",
   "execution_count": 13,
   "id": "90f4fc3e",
   "metadata": {},
   "outputs": [],
   "source": [
    "aviation_df.to_csv('aviation_clean.csv', index=False)\n",
    "\n"
   ]
  }
 ],
 "metadata": {
  "kernelspec": {
   "display_name": "base",
   "language": "python",
   "name": "python3"
  },
  "language_info": {
   "codemirror_mode": {
    "name": "ipython",
    "version": 3
   },
   "file_extension": ".py",
   "mimetype": "text/x-python",
   "name": "python",
   "nbconvert_exporter": "python",
   "pygments_lexer": "ipython3",
   "version": "3.12.7"
  }
 },
 "nbformat": 4,
 "nbformat_minor": 5
}
